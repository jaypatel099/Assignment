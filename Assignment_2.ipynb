{
  "metadata": {
    "language_info": {
      "codemirror_mode": {
        "name": "python",
        "version": 3
      },
      "file_extension": ".py",
      "mimetype": "text/x-python",
      "name": "python",
      "nbconvert_exporter": "python",
      "pygments_lexer": "ipython3",
      "version": "3.8"
    },
    "kernelspec": {
      "name": "python",
      "display_name": "Python (Pyodide)",
      "language": "python"
    }
  },
  "nbformat_minor": 4,
  "nbformat": 4,
  "cells": [
    {
      "cell_type": "code",
      "source": "#Q1\n\"\"\"\nTwo value of bollean datatypes are True and False.\nYou can write them \"\"\"\n\nTrue\nFalse",
      "metadata": {
        "trusted": true
      },
      "execution_count": 1,
      "outputs": [
        {
          "execution_count": 1,
          "output_type": "execute_result",
          "data": {
            "text/plain": "False"
          },
          "metadata": {}
        }
      ]
    },
    {
      "cell_type": "code",
      "source": "#Q2\n\n\"\"\"\nThree bollean opeartor are\n\nand\nor\nnot\n\n\"\"\"",
      "metadata": {
        "trusted": true
      },
      "execution_count": 5,
      "outputs": [
        {
          "execution_count": 5,
          "output_type": "execute_result",
          "data": {
            "text/plain": "'\\nThree bollean opeartor are\\n\\nand\\nor\\nnot\\n\\n'"
          },
          "metadata": {}
        }
      ]
    },
    {
      "cell_type": "code",
      "source": "#Q3\n\"\"\" \nAND truth table\nv1  v2  ans\n1   0    0\n1   1    1\n0   0    0\n0   1    0\n\n\nOR truth table\n\nv1  v2  ans\n1   0    1 \n1   1    1\n0   1    1\n0   0    0\n\n\nNOT truth table\n\nv1  ans\n1    0\n0    1\n\n\"\"\"",
      "metadata": {
        "trusted": true
      },
      "execution_count": 6,
      "outputs": [
        {
          "execution_count": 6,
          "output_type": "execute_result",
          "data": {
            "text/plain": "' \\nAND truth table\\nv1  v2  ans\\n1   0    0\\n1   1    1\\n0   0    0\\n0   1    0\\n\\n\\nOR truth table\\n\\nv1  v2  ans\\n1   0    1 \\n1   1    1\\n0   1    1\\n0   0    0\\n\\n\\nNOT truth table\\n\\nv1  ans\\n1    0\\n0    1\\n\\n'"
          },
          "metadata": {}
        }
      ]
    },
    {
      "cell_type": "code",
      "source": "#Q4\n\nprint((5>4) and (3==5))\nprint(not(5>4))\nprint((5>4) or (3==5))\nprint(not((5>4) or (3==5)))\nprint((True and True) and (True==False))\nprint((not False) or (not True))",
      "metadata": {
        "trusted": true
      },
      "execution_count": 7,
      "outputs": [
        {
          "name": "stdout",
          "text": "False\nFalse\nTrue\nFalse\nFalse\nTrue\n",
          "output_type": "stream"
        }
      ]
    },
    {
      "cell_type": "code",
      "source": "#Q5\n\n\"\"\"\nsix comparison operator are\n\n<   less than\n<=  less than equal to\n>   grater than\n>=  grater than equal to\n==  equal to \n!=  not equal to\n\n\n\"\"\"",
      "metadata": {
        "trusted": true
      },
      "execution_count": 8,
      "outputs": [
        {
          "execution_count": 8,
          "output_type": "execute_result",
          "data": {
            "text/plain": "'\\nsix comparison operator are\\n\\n<   less than\\n<=  less than equal to\\n>   grater than\\n>=  grater than equal to\\n==  equal to \\n!=  not equal to\\n\\n\\n'"
          },
          "metadata": {}
        }
      ]
    },
    {
      "cell_type": "code",
      "source": "#Q6\n\"\"\"\nequal to opeartor have two \"=\" equal to operands= and assignment operator have only one \"=\" equal to operand.\n\nequal to is used to check both the value are or variable are equal or not it gives true or false value. while assignment operator is used to assign value or data to varaibles.\n\n\"\"\"",
      "metadata": {
        "trusted": true
      },
      "execution_count": 9,
      "outputs": [
        {
          "execution_count": 9,
          "output_type": "execute_result",
          "data": {
            "text/plain": "'\\nequal to opeartor have two \"=\" equal to operands= and assignment operator have only one \"=\" equal to operand.\\n\\nequal to is used to check both the value are or variable are equal or not it gives true or false value. while assignment operator is used to assign value or data to varaibles.\\n\\n'"
          },
          "metadata": {}
        }
      ]
    },
    {
      "cell_type": "code",
      "source": "#Q7\n# here i moved the code into their repective block and indentation.\n# 2 if block and one else block\nspam = 0\nif spam == 10:\n    print(\"eggs\")\n    if spam > 5:\n        print(\"bacon\")\n    else:\n        print(\"ham\")\n    print(\"spam\")\nprint(\"spam\")\n",
      "metadata": {
        "trusted": true
      },
      "execution_count": 10,
      "outputs": [
        {
          "name": "stdout",
          "text": "spam\n",
          "output_type": "stream"
        }
      ]
    },
    {
      "cell_type": "code",
      "source": "#Q8\nspam=6\nif spam==1:\n    print(\"Hello\")\nelif spam==2:\n    print(\"Howdy\")\nelse:\n    print(\"Greetings!\")",
      "metadata": {
        "trusted": true
      },
      "execution_count": 15,
      "outputs": [
        {
          "name": "stdout",
          "text": "Greetings!\n",
          "output_type": "stream"
        }
      ]
    },
    {
      "cell_type": "code",
      "source": "|",
      "metadata": {},
      "execution_count": null,
      "outputs": []
    }
  ]
}