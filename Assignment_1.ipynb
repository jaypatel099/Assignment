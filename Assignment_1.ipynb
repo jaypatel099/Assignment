{
  "metadata": {
    "language_info": {
      "name": ""
    },
    "kernelspec": {
      "name": "",
      "display_name": ""
    }
  },
  "nbformat_minor": 4,
  "nbformat": 4,
  "cells": [
    {
      "cell_type": "raw",
      "source": "Q1\n\n* - expression\n'hello' - value\n-87.8 - value\n- - expression\n/ - expression\n+ - expression\n6 - value\n\n",
      "metadata": {}
    },
    {
      "cell_type": "raw",
      "source": "Q2 \n\nString: string is sequence of character like number, alphabatic, or symbols. it is bascialy a datatype. \nvariable: variable is used to store different type of data. we can assign different data to variable. \n\n",
      "metadata": {}
    },
    {
      "cell_type": "raw",
      "source": "Q3\nstring: string is sequence of character like number, alphabatic, or symbols.\ninteger: Is a datatpes that includes positive or negative whole numbers without a fractional part.\nfloat: Is a data types that store a value of floationg potint or fractional number in decimal number with point.\n",
      "metadata": {}
    },
    {
      "cell_type": "raw",
      "source": "Q4\nexpression: it is combination of values, variables, operators, and calls to functions. As a output thaey will give a single value.",
      "metadata": {}
    },
    {
      "cell_type": "raw",
      "source": "Q5\nexpression always yields a value. while statement represent an action or command menas that do something like assigning the value to spam to 10.",
      "metadata": {}
    },
    {
      "cell_type": "code",
      "source": "#Q6\n\nbacon =22\nbacon+1\nbacon\n# bacon contain value 22",
      "metadata": {
        "trusted": true
      },
      "execution_count": 4,
      "outputs": [
        {
          "execution_count": 4,
          "output_type": "execute_result",
          "data": {
            "text/plain": "22"
          },
          "metadata": {}
        }
      ]
    },
    {
      "cell_type": "code",
      "source": "#Q7\nprint(\"spam\"+\"spamspam\")\nprint(\"spam\"*3)\n\n# value is same \"spamspamspam\"\n",
      "metadata": {
        "trusted": true
      },
      "execution_count": 6,
      "outputs": [
        {
          "name": "stdout",
          "text": "spamspamspam\nspamspamspam\n",
          "output_type": "stream"
        }
      ]
    },
    {
      "cell_type": "raw",
      "source": "#Q8\negg is start with alphabatic while 100 is start with numberic value.",
      "metadata": {}
    },
    {
      "cell_type": "raw",
      "source": "#Q9\n\nfor integer --int()\nfor floating-point number- float()\nfor string - str()",
      "metadata": {}
    },
    {
      "cell_type": "code",
      "source": "#Q10\n\n#expression is causing a error because we are doing cocatination opereation of two different datatype string and integer.\n\n# for fix\n'i have eaten' +' 99 '+'burritos'\n\n#or\n\n'i have eaten' +str( 99 )+'burritos'\n",
      "metadata": {
        "trusted": true
      },
      "execution_count": 10,
      "outputs": [
        {
          "execution_count": 10,
          "output_type": "execute_result",
          "data": {
            "text/plain": "'i have eaten99burritos'"
          },
          "metadata": {}
        }
      ]
    },
    {
      "cell_type": "code",
      "source": "",
      "metadata": {},
      "execution_count": null,
      "outputs": []
    }
  ]
}